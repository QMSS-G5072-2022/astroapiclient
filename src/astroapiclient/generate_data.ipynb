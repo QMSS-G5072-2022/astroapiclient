{
 "cells": [
  {
   "cell_type": "code",
   "execution_count": 1,
   "id": "a29778ac",
   "metadata": {},
   "outputs": [],
   "source": [
    "# This module contains a class of functions that query the Aztro rapid API \n",
    "# each function generates data for each day avaliable (today, tomorrow, yesterday) "
   ]
  },
  {
   "cell_type": "code",
   "execution_count": 2,
   "id": "ba13c646",
   "metadata": {},
   "outputs": [],
   "source": [
    "## importing necessary libraries\n",
    "import requests"
   ]
  },
  {
   "cell_type": "code",
   "execution_count": 3,
   "id": "690b32b2",
   "metadata": {},
   "outputs": [],
   "source": [
    "# base url for API\n",
    "url = \"https://sameer-kumar-aztro-v1.p.rapidapi.com/\"\n",
    "\n",
    "# API Key + Host\n",
    "headers = {\n",
    "\t\"X-RapidAPI-Key\": \"4b129e1208msh33e49a5cb1bd56bp1deaf8jsn9d67d65fa24e\",\n",
    "\t\"X-RapidAPI-Host\": \"sameer-kumar-aztro-v1.p.rapidapi.com\"\n",
    "}\n",
    "\n",
    "lst_sun_signs = ['aries', 'taurus', 'gemini', 'cancer', 'leo', 'virgo', 'libra', 'scorpio', 'sagittarius', 'capricorn', 'aquarius']"
   ]
  },
  {
   "cell_type": "code",
   "execution_count": 4,
   "id": "ad3dac7d",
   "metadata": {},
   "outputs": [],
   "source": [
    "def today_data():\n",
    "    '''\n",
    "\tThis function generates today's horoscope data for each zodiac sign.\n",
    "\n",
    "\tParameters:\n",
    "\t----------\n",
    "\t\tnone\n",
    "\n",
    "\tReturns:\n",
    "\t-------\n",
    "\t\tA list of response objects that contain today's horoscope information for each zodiac sign.\n",
    "\n",
    "\tExample:\n",
    "\t--------\n",
    "\t>>>> today_data()\n",
    "\t[<Response [200]>,\n",
    " \t<Response [200]>,\n",
    " \t<Response [200]>,\n",
    " \t<Response [200]>,\n",
    " \t<Response [200]>,\n",
    " \t<Response [200]>,\n",
    " \t<Response [200]>,\n",
    " \t<Response [200]>,\n",
    " \t<Response [200]>,\n",
    " \t<Response [200]>,\n",
    " \t<Response [200]>]\n",
    "\t'''\n",
    "    lst_response = []\n",
    "    for sign in lst_sun_signs:\n",
    "        querystring = {'sign': sign, 'day':'today'}\n",
    "        response = requests.request(\"POST\", url, headers=headers, params=querystring)\n",
    "        lst_response.append(response)\n",
    "    return lst_response"
   ]
  },
  {
   "cell_type": "code",
   "execution_count": 5,
   "id": "caf12493",
   "metadata": {},
   "outputs": [
    {
     "data": {
      "text/plain": [
       "[<Response [200]>,\n",
       " <Response [200]>,\n",
       " <Response [200]>,\n",
       " <Response [200]>,\n",
       " <Response [200]>,\n",
       " <Response [200]>,\n",
       " <Response [200]>,\n",
       " <Response [200]>,\n",
       " <Response [200]>,\n",
       " <Response [200]>,\n",
       " <Response [200]>]"
      ]
     },
     "execution_count": 5,
     "metadata": {},
     "output_type": "execute_result"
    }
   ],
   "source": [
    "today_data()"
   ]
  },
  {
   "cell_type": "code",
   "execution_count": 6,
   "id": "4f138d54",
   "metadata": {},
   "outputs": [],
   "source": [
    "def yesterday_data():\n",
    "    '''\n",
    "\tThis function generates yesterday's horoscope data for each zodiac sign.\n",
    "\n",
    "\tParameters:\n",
    "\t----------\n",
    "\t\tnone\n",
    "\n",
    "\tReturns:\n",
    "\t-------\n",
    "\t\tA list of response objects that contain yesterday's horoscope information for each zodiac sign.\n",
    "\n",
    "\tExample:\n",
    "\t--------\n",
    "\t>>>> yesterday_data()\n",
    "\t[<Response [200]>,\n",
    " \t<Response [200]>,\n",
    " \t<Response [200]>,\n",
    " \t<Response [200]>,\n",
    " \t<Response [200]>,\n",
    " \t<Response [200]>,\n",
    " \t<Response [200]>,\n",
    " \t<Response [200]>,\n",
    " \t<Response [200]>,\n",
    " \t<Response [200]>,\n",
    " \t<Response [200]>]\n",
    "\t'''\n",
    "    lst_response = []\n",
    "    for sign in lst_sun_signs:\n",
    "        querystring = {'sign': sign, 'day':'yesterday'}\n",
    "        response = requests.request(\"POST\", url, headers=headers, params=querystring)\n",
    "        lst_response.append(response)\n",
    "    return lst_response"
   ]
  },
  {
   "cell_type": "code",
   "execution_count": 7,
   "id": "4c69e78c",
   "metadata": {},
   "outputs": [
    {
     "data": {
      "text/plain": [
       "[<Response [200]>,\n",
       " <Response [200]>,\n",
       " <Response [200]>,\n",
       " <Response [200]>,\n",
       " <Response [200]>,\n",
       " <Response [200]>,\n",
       " <Response [200]>,\n",
       " <Response [200]>,\n",
       " <Response [200]>,\n",
       " <Response [200]>,\n",
       " <Response [200]>]"
      ]
     },
     "execution_count": 7,
     "metadata": {},
     "output_type": "execute_result"
    }
   ],
   "source": [
    "yesterday_data()"
   ]
  },
  {
   "cell_type": "code",
   "execution_count": 8,
   "id": "e39938d6",
   "metadata": {},
   "outputs": [],
   "source": [
    "def tomorrow_data():\n",
    "    '''\n",
    "\tThis function generates tomorrow's horoscope data for each zodiac sign.\n",
    "\n",
    "\tParameters:\n",
    "\t----------\n",
    "\t\tnone\n",
    "\n",
    "\tReturns:\n",
    "\t-------\n",
    "\t\tA list of response objects that contain tomorrow's horoscope information for each zodiac sign.\n",
    "\n",
    "\tExample:\n",
    "\t--------\n",
    "\t>>>> tomorrow_data()\n",
    "\t[<Response [200]>,\n",
    " \t<Response [200]>,\n",
    " \t<Response [200]>,\n",
    " \t<Response [200]>,\n",
    " \t<Response [200]>,\n",
    " \t<Response [200]>,\n",
    " \t<Response [200]>,\n",
    " \t<Response [200]>,\n",
    " \t<Response [200]>,\n",
    " \t<Response [200]>,\n",
    " \t<Response [200]>]\n",
    "\t'''\n",
    "    lst_response = []\n",
    "    for sign in lst_sun_signs:\n",
    "        querystring = {'sign': sign, 'day':'tomorrow'}\n",
    "        response = requests.request(\"POST\", url, headers=headers, params=querystring)\n",
    "        lst_response.append(response)\n",
    "    return lst_response"
   ]
  },
  {
   "cell_type": "code",
   "execution_count": 9,
   "id": "abd1eb26",
   "metadata": {},
   "outputs": [
    {
     "data": {
      "text/plain": [
       "[<Response [200]>,\n",
       " <Response [200]>,\n",
       " <Response [200]>,\n",
       " <Response [200]>,\n",
       " <Response [200]>,\n",
       " <Response [200]>,\n",
       " <Response [200]>,\n",
       " <Response [200]>,\n",
       " <Response [200]>,\n",
       " <Response [200]>,\n",
       " <Response [200]>]"
      ]
     },
     "execution_count": 9,
     "metadata": {},
     "output_type": "execute_result"
    }
   ],
   "source": [
    "tomorrow_data()"
   ]
  }
 ],
 "metadata": {
  "kernelspec": {
   "display_name": "Python 3 (ipykernel)",
   "language": "python",
   "name": "python3"
  },
  "language_info": {
   "codemirror_mode": {
    "name": "ipython",
    "version": 3
   },
   "file_extension": ".py",
   "mimetype": "text/x-python",
   "name": "python",
   "nbconvert_exporter": "python",
   "pygments_lexer": "ipython3",
   "version": "3.10.8"
  }
 },
 "nbformat": 4,
 "nbformat_minor": 5
}
