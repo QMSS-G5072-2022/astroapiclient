{
 "cells": [
  {
   "cell_type": "code",
   "execution_count": 1,
   "id": "a4c0afab",
   "metadata": {},
   "outputs": [],
   "source": [
    "# This module contains functions that automate the process of obtaining daily horoscope of \n",
    "# today, yesterday, and tomorrow based on the sun sign inputed"
   ]
  },
  {
   "cell_type": "code",
   "execution_count": 2,
   "id": "324de896",
   "metadata": {},
   "outputs": [],
   "source": [
    "## importing necessary libraries \n",
    "import requests "
   ]
  },
  {
   "cell_type": "code",
   "execution_count": 3,
   "id": "7b90b005",
   "metadata": {},
   "outputs": [],
   "source": [
    "# base url for API\n",
    "url = \"https://sameer-kumar-aztro-v1.p.rapidapi.com/\"\n",
    "\n",
    "# API Key + Host\n",
    "headers = {\n",
    "\t\"X-RapidAPI-Key\": \"4b129e1208msh33e49a5cb1bd56bp1deaf8jsn9d67d65fa24e\",\n",
    "\t\"X-RapidAPI-Host\": \"sameer-kumar-aztro-v1.p.rapidapi.com\"\n",
    "}"
   ]
  },
  {
   "cell_type": "code",
   "execution_count": 4,
   "id": "ef1769a5",
   "metadata": {},
   "outputs": [],
   "source": [
    "def horoscope(sign, day):\n",
    "    '''\n",
    "\tThe function returns horoscope information for a given sign and day. \n",
    "\n",
    "\tParameters:\n",
    "\t-----------\n",
    "\t\tsign: string, the zodiac sign\n",
    "\t\tday: string; yesterday, today, or tomorrow\n",
    "\n",
    "\tReturns:\n",
    "\t--------\n",
    "\t\tThe return value is null as a string with the horoscope information is printed.\n",
    "\t\n",
    "\tExample:\n",
    "\t--------\n",
    "\t>>>> horoscope(sign='capricorn', day='today')\n",
    "\t{\"date_range\": \"Dec 22 - Jan 19\", \"current_date\": \"December 16, 2022\", \"description\": \n",
    "\t\"If you don't feel comfortable knowing that you've been giving in to a certain person about \n",
    "\tfinancial matters, then it's time to stop. If anyone is intellectually on top of things, it's you. \n",
    "\tGo with your gut.\", \"compatibility\": \"Libra\", \"mood\": \"Confidence\", \"color\": \"Brown\", \n",
    "\t\"lucky_number\": \"95\", \"lucky_time\": \"11pm\"}\n",
    "\t'''\n",
    "    querystring = {'sign': sign, 'day': day}\n",
    "    response = requests.request(\"POST\", url, headers=headers, params=querystring)\n",
    "    print(response.text)"
   ]
  },
  {
   "cell_type": "code",
   "execution_count": 5,
   "id": "cb471641",
   "metadata": {},
   "outputs": [
    {
     "name": "stdout",
     "output_type": "stream",
     "text": [
      "{\"date_range\": \"Dec 22 - Jan 19\", \"current_date\": \"December 16, 2022\", \"description\": \"If you don't feel comfortable knowing that you've been giving in to a certain person about financial matters, then it's time to stop. If anyone is intellectually on top of things, it's you. Go with your gut.\", \"compatibility\": \"Libra\", \"mood\": \"Confidence\", \"color\": \"Brown\", \"lucky_number\": \"95\", \"lucky_time\": \"11pm\"}\n",
      "\n"
     ]
    }
   ],
   "source": [
    "horoscope('capricorn', 'today')"
   ]
  },
  {
   "cell_type": "code",
   "execution_count": null,
   "id": "c68e2a9b",
   "metadata": {},
   "outputs": [],
   "source": []
  }
 ],
 "metadata": {
  "kernelspec": {
   "display_name": "Python 3 (ipykernel)",
   "language": "python",
   "name": "python3"
  },
  "language_info": {
   "codemirror_mode": {
    "name": "ipython",
    "version": 3
   },
   "file_extension": ".py",
   "mimetype": "text/x-python",
   "name": "python",
   "nbconvert_exporter": "python",
   "pygments_lexer": "ipython3",
   "version": "3.10.8"
  }
 },
 "nbformat": 4,
 "nbformat_minor": 5
}
