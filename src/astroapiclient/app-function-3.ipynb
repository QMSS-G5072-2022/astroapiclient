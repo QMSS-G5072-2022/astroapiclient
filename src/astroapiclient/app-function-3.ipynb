{
 "cells": [
  {
   "cell_type": "code",
   "execution_count": 1,
   "id": "e3c2695d",
   "metadata": {},
   "outputs": [],
   "source": [
    "# This module contains functions that generate long(er) term compatibility"
   ]
  },
  {
   "cell_type": "code",
   "execution_count": 2,
   "id": "c8275ed8",
   "metadata": {},
   "outputs": [],
   "source": [
    "## importing necessary libraries\n",
    "import pandas as pd\n",
    "import numpy as np"
   ]
  },
  {
   "cell_type": "code",
   "execution_count": 3,
   "id": "42cc77d8",
   "metadata": {},
   "outputs": [],
   "source": [
    "# importing build_dataset module\n",
    "import build_dataset as bd"
   ]
  },
  {
   "cell_type": "code",
   "execution_count": 4,
   "id": "68ec00cc",
   "metadata": {},
   "outputs": [
    {
     "data": {
      "text/html": [
       "<div>\n",
       "<style scoped>\n",
       "    .dataframe tbody tr th:only-of-type {\n",
       "        vertical-align: middle;\n",
       "    }\n",
       "\n",
       "    .dataframe tbody tr th {\n",
       "        vertical-align: top;\n",
       "    }\n",
       "\n",
       "    .dataframe thead th {\n",
       "        text-align: right;\n",
       "    }\n",
       "</style>\n",
       "<table border=\"1\" class=\"dataframe\">\n",
       "  <thead>\n",
       "    <tr style=\"text-align: right;\">\n",
       "      <th></th>\n",
       "      <th>Sun Sign</th>\n",
       "      <th>Date</th>\n",
       "      <th>Description</th>\n",
       "      <th>Compatibility</th>\n",
       "      <th>Mood</th>\n",
       "      <th>Color</th>\n",
       "      <th>Lucky Number</th>\n",
       "      <th>Lucky Time</th>\n",
       "    </tr>\n",
       "  </thead>\n",
       "  <tbody>\n",
       "    <tr>\n",
       "      <th>0</th>\n",
       "      <td>aries</td>\n",
       "      <td>December 16, 2022</td>\n",
       "      <td>A relationship with someone you've been trying...</td>\n",
       "      <td>scorpio</td>\n",
       "      <td>Sincere</td>\n",
       "      <td>Brown</td>\n",
       "      <td>68</td>\n",
       "      <td>8am</td>\n",
       "    </tr>\n",
       "    <tr>\n",
       "      <th>1</th>\n",
       "      <td>taurus</td>\n",
       "      <td>December 16, 2022</td>\n",
       "      <td>The Moon will be full when you open your eyes,...</td>\n",
       "      <td>aquarius</td>\n",
       "      <td>Successful</td>\n",
       "      <td>Rose</td>\n",
       "      <td>34</td>\n",
       "      <td>9pm</td>\n",
       "    </tr>\n",
       "    <tr>\n",
       "      <th>2</th>\n",
       "      <td>gemini</td>\n",
       "      <td>December 16, 2022</td>\n",
       "      <td>The truth about a friend will surface now. Tha...</td>\n",
       "      <td>libra</td>\n",
       "      <td>Surprised</td>\n",
       "      <td>Peach</td>\n",
       "      <td>35</td>\n",
       "      <td>6am</td>\n",
       "    </tr>\n",
       "    <tr>\n",
       "      <th>3</th>\n",
       "      <td>cancer</td>\n",
       "      <td>December 16, 2022</td>\n",
       "      <td>If you feel stalled, especially when it comes ...</td>\n",
       "      <td>aries</td>\n",
       "      <td>Warm</td>\n",
       "      <td>Navy</td>\n",
       "      <td>49</td>\n",
       "      <td>4pm</td>\n",
       "    </tr>\n",
       "    <tr>\n",
       "      <th>4</th>\n",
       "      <td>leo</td>\n",
       "      <td>December 16, 2022</td>\n",
       "      <td>You've done everything you can in a situation ...</td>\n",
       "      <td>capricorn</td>\n",
       "      <td>Focus</td>\n",
       "      <td>Blue</td>\n",
       "      <td>31</td>\n",
       "      <td>5pm</td>\n",
       "    </tr>\n",
       "  </tbody>\n",
       "</table>\n",
       "</div>"
      ],
      "text/plain": [
       "  Sun Sign               Date  \\\n",
       "0    aries  December 16, 2022   \n",
       "1   taurus  December 16, 2022   \n",
       "2   gemini  December 16, 2022   \n",
       "3   cancer  December 16, 2022   \n",
       "4      leo  December 16, 2022   \n",
       "\n",
       "                                         Description Compatibility  \\\n",
       "0  A relationship with someone you've been trying...       scorpio   \n",
       "1  The Moon will be full when you open your eyes,...      aquarius   \n",
       "2  The truth about a friend will surface now. Tha...         libra   \n",
       "3  If you feel stalled, especially when it comes ...         aries   \n",
       "4  You've done everything you can in a situation ...     capricorn   \n",
       "\n",
       "         Mood  Color Lucky Number Lucky Time  \n",
       "0     Sincere  Brown           68        8am  \n",
       "1  Successful   Rose           34        9pm  \n",
       "2   Surprised  Peach           35        6am  \n",
       "3        Warm   Navy           49        4pm  \n",
       "4       Focus   Blue           31        5pm  "
      ]
     },
     "execution_count": 4,
     "metadata": {},
     "output_type": "execute_result"
    }
   ],
   "source": [
    "# get df of astrological data\n",
    "df = bd.df\n",
    "df['Compatibility'] = df['Compatibility'].str.lower()\n",
    "df.head()"
   ]
  },
  {
   "cell_type": "code",
   "execution_count": 5,
   "id": "cc5f9802",
   "metadata": {},
   "outputs": [],
   "source": [
    "def best_compatibility(sign):\n",
    "    '''\n",
    "    This functions returns the best compatible sign. \n",
    "\n",
    "    Parameters:\n",
    "    -----------\n",
    "        sign: a string, the zodiac sign\n",
    "\n",
    "    Returns:\n",
    "    --------\n",
    "        The return value is the most frequent sign that pairs with the given zodiac sign.\n",
    "\n",
    "    Example:\n",
    "    --------\n",
    "    >>>> best_compatibility('capricorn')\n",
    "    'scorpio'\n",
    "        '''\n",
    "    assert type(sign) == str, \"sign must be a valid zodiac sign\"\n",
    "    lst = list(df[df['Sun Sign'] == sign]['Compatibility']) + list(df[df['Compatibility'] == sign]['Sun Sign'])\n",
    "    return max(lst, key=lst.count)"
   ]
  },
  {
   "cell_type": "code",
   "execution_count": 6,
   "id": "50264bbc",
   "metadata": {},
   "outputs": [
    {
     "data": {
      "text/plain": [
       "'libra'"
      ]
     },
     "execution_count": 6,
     "metadata": {},
     "output_type": "execute_result"
    }
   ],
   "source": [
    "best_compatibility('capricorn')"
   ]
  },
  {
   "cell_type": "code",
   "execution_count": null,
   "id": "a47d93f3",
   "metadata": {},
   "outputs": [],
   "source": []
  }
 ],
 "metadata": {
  "kernelspec": {
   "display_name": "Python 3 (ipykernel)",
   "language": "python",
   "name": "python3"
  },
  "language_info": {
   "codemirror_mode": {
    "name": "ipython",
    "version": 3
   },
   "file_extension": ".py",
   "mimetype": "text/x-python",
   "name": "python",
   "nbconvert_exporter": "python",
   "pygments_lexer": "ipython3",
   "version": "3.10.8"
  }
 },
 "nbformat": 4,
 "nbformat_minor": 5
}
