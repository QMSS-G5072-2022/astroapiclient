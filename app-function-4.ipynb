{
 "cells": [
  {
   "cell_type": "code",
   "execution_count": 1,
   "id": "2258de2a",
   "metadata": {},
   "outputs": [],
   "source": [
    "# This module contains functions that generate trends for the remaining columns"
   ]
  },
  {
   "cell_type": "code",
   "execution_count": 2,
   "id": "3986cd22",
   "metadata": {},
   "outputs": [],
   "source": [
    "# importing necessary libraries\n",
    "import pandas as pd\n",
    "import numpy as np\n",
    "import re"
   ]
  },
  {
   "cell_type": "code",
   "execution_count": 3,
   "id": "bb0c8513",
   "metadata": {},
   "outputs": [],
   "source": [
    "# import build_dataset module\n",
    "import build_dataset as bd"
   ]
  },
  {
   "cell_type": "code",
   "execution_count": 4,
   "id": "bf6859cb",
   "metadata": {},
   "outputs": [
    {
     "data": {
      "text/html": [
       "<div>\n",
       "<style scoped>\n",
       "    .dataframe tbody tr th:only-of-type {\n",
       "        vertical-align: middle;\n",
       "    }\n",
       "\n",
       "    .dataframe tbody tr th {\n",
       "        vertical-align: top;\n",
       "    }\n",
       "\n",
       "    .dataframe thead th {\n",
       "        text-align: right;\n",
       "    }\n",
       "</style>\n",
       "<table border=\"1\" class=\"dataframe\">\n",
       "  <thead>\n",
       "    <tr style=\"text-align: right;\">\n",
       "      <th></th>\n",
       "      <th>Sun Sign</th>\n",
       "      <th>Date</th>\n",
       "      <th>Description</th>\n",
       "      <th>Compatibility</th>\n",
       "      <th>Mood</th>\n",
       "      <th>Color</th>\n",
       "      <th>Lucky Number</th>\n",
       "      <th>Lucky Time</th>\n",
       "    </tr>\n",
       "  </thead>\n",
       "  <tbody>\n",
       "    <tr>\n",
       "      <th>0</th>\n",
       "      <td>aries</td>\n",
       "      <td>December 13, 2022</td>\n",
       "      <td>Education is one of the very few subjects you'...</td>\n",
       "      <td>Scorpio</td>\n",
       "      <td>Curious</td>\n",
       "      <td>Silver</td>\n",
       "      <td>49</td>\n",
       "      <td>4pm</td>\n",
       "    </tr>\n",
       "    <tr>\n",
       "      <th>1</th>\n",
       "      <td>taurus</td>\n",
       "      <td>December 13, 2022</td>\n",
       "      <td>If anyone can handle intensity, it's you. Your...</td>\n",
       "      <td>Scorpio</td>\n",
       "      <td>Helpless</td>\n",
       "      <td>Pink</td>\n",
       "      <td>75</td>\n",
       "      <td>8am</td>\n",
       "    </tr>\n",
       "    <tr>\n",
       "      <th>2</th>\n",
       "      <td>gemini</td>\n",
       "      <td>December 13, 2022</td>\n",
       "      <td>You've got something to say to a loved one, an...</td>\n",
       "      <td>Pisces</td>\n",
       "      <td>Serious</td>\n",
       "      <td>Navy</td>\n",
       "      <td>71</td>\n",
       "      <td>10pm</td>\n",
       "    </tr>\n",
       "    <tr>\n",
       "      <th>3</th>\n",
       "      <td>cancer</td>\n",
       "      <td>December 13, 2022</td>\n",
       "      <td>You've never been famous for making promises y...</td>\n",
       "      <td>Gemini</td>\n",
       "      <td>Honest</td>\n",
       "      <td>Spring</td>\n",
       "      <td>2</td>\n",
       "      <td>9am</td>\n",
       "    </tr>\n",
       "    <tr>\n",
       "      <th>4</th>\n",
       "      <td>leo</td>\n",
       "      <td>December 13, 2022</td>\n",
       "      <td>If anyone is equipped to deliver a truly meani...</td>\n",
       "      <td>Scorpio</td>\n",
       "      <td>Talkative</td>\n",
       "      <td>Orchid</td>\n",
       "      <td>82</td>\n",
       "      <td>7am</td>\n",
       "    </tr>\n",
       "  </tbody>\n",
       "</table>\n",
       "</div>"
      ],
      "text/plain": [
       "  Sun Sign               Date  \\\n",
       "0    aries  December 13, 2022   \n",
       "1   taurus  December 13, 2022   \n",
       "2   gemini  December 13, 2022   \n",
       "3   cancer  December 13, 2022   \n",
       "4      leo  December 13, 2022   \n",
       "\n",
       "                                         Description Compatibility       Mood  \\\n",
       "0  Education is one of the very few subjects you'...       Scorpio    Curious   \n",
       "1  If anyone can handle intensity, it's you. Your...       Scorpio   Helpless   \n",
       "2  You've got something to say to a loved one, an...        Pisces    Serious   \n",
       "3  You've never been famous for making promises y...        Gemini     Honest   \n",
       "4  If anyone is equipped to deliver a truly meani...       Scorpio  Talkative   \n",
       "\n",
       "    Color Lucky Number Lucky Time  \n",
       "0  Silver           49        4pm  \n",
       "1    Pink           75        8am  \n",
       "2    Navy           71       10pm  \n",
       "3  Spring            2        9am  \n",
       "4  Orchid           82        7am  "
      ]
     },
     "execution_count": 4,
     "metadata": {},
     "output_type": "execute_result"
    }
   ],
   "source": [
    "# get df of astrological data\n",
    "df = bd.df\n",
    "df.head()"
   ]
  },
  {
   "cell_type": "code",
   "execution_count": 5,
   "id": "de2151f3",
   "metadata": {},
   "outputs": [],
   "source": [
    "def overall(var, sign):\n",
    "    temp = df.groupby('Sun Sign')[var].apply(list)\n",
    "    lst = temp[sign]\n",
    "    return max(lst, key=lst.count)"
   ]
  },
  {
   "cell_type": "code",
   "execution_count": 9,
   "id": "77564061",
   "metadata": {},
   "outputs": [
    {
     "data": {
      "text/plain": [
       "'Purple'"
      ]
     },
     "execution_count": 9,
     "metadata": {},
     "output_type": "execute_result"
    }
   ],
   "source": [
    "overall('Color', 'capricorn')"
   ]
  },
  {
   "cell_type": "code",
   "execution_count": 7,
   "id": "2e516ab2",
   "metadata": {},
   "outputs": [],
   "source": [
    "def overall_color(sign):\n",
    "    temp = df.groupby('Sun Sign')['Color'].apply(list)\n",
    "    lst = temp[sign]\n",
    "    return max(lst, key=lst.count)"
   ]
  },
  {
   "cell_type": "code",
   "execution_count": 8,
   "id": "bbd4f844",
   "metadata": {},
   "outputs": [
    {
     "data": {
      "text/plain": [
       "'Purple'"
      ]
     },
     "execution_count": 8,
     "metadata": {},
     "output_type": "execute_result"
    }
   ],
   "source": [
    "overall_color('capricorn')"
   ]
  },
  {
   "cell_type": "code",
   "execution_count": 14,
   "id": "eb63d811",
   "metadata": {},
   "outputs": [],
   "source": [
    "def overall_lucky_number(sign):\n",
    "    temp = df.groupby('Sun Sign')['Lucky Number'].apply(list)\n",
    "    lst = temp[sign]\n",
    "    return max(lst, key=lst.count)"
   ]
  },
  {
   "cell_type": "code",
   "execution_count": 15,
   "id": "955316ab",
   "metadata": {},
   "outputs": [
    {
     "data": {
      "text/plain": [
       "'88'"
      ]
     },
     "execution_count": 15,
     "metadata": {},
     "output_type": "execute_result"
    }
   ],
   "source": [
    "overall_lucky_number('capricorn')"
   ]
  },
  {
   "cell_type": "code",
   "execution_count": 16,
   "id": "903c32d4",
   "metadata": {},
   "outputs": [],
   "source": [
    "def overall_lucky_time(sign):\n",
    "    temp = df.groupby('Sun Sign')['Lucky Time'].apply(list)\n",
    "    lst = temp[sign]\n",
    "    return max(lst, key=lst.count)"
   ]
  },
  {
   "cell_type": "code",
   "execution_count": 17,
   "id": "f3556fec",
   "metadata": {},
   "outputs": [
    {
     "data": {
      "text/plain": [
       "'2pm'"
      ]
     },
     "execution_count": 17,
     "metadata": {},
     "output_type": "execute_result"
    }
   ],
   "source": [
    "overall_lucky_time('capricorn')"
   ]
  },
  {
   "cell_type": "code",
   "execution_count": 29,
   "id": "b4ffe617",
   "metadata": {},
   "outputs": [],
   "source": [
    "def overall_lucky_time_period(sign):\n",
    "    temp = df\n",
    "    temp['Lucky Time Period'] = temp['Lucky Time'].apply(lambda x: re.findall(r'(am|pm)', x))\n",
    "    temp = temp.groupby('Sun Sign')['Lucky Time Period'].sum()\n",
    "    lst = temp[sign]\n",
    "    return max(lst, key=lst.count)"
   ]
  },
  {
   "cell_type": "code",
   "execution_count": 30,
   "id": "8c4b9db5",
   "metadata": {},
   "outputs": [
    {
     "data": {
      "text/plain": [
       "'pm'"
      ]
     },
     "execution_count": 30,
     "metadata": {},
     "output_type": "execute_result"
    }
   ],
   "source": [
    "overall_lucky_time_period('capricorn')"
   ]
  },
  {
   "cell_type": "code",
   "execution_count": null,
   "id": "8d87ada9",
   "metadata": {},
   "outputs": [],
   "source": []
  }
 ],
 "metadata": {
  "kernelspec": {
   "display_name": "Python 3 (ipykernel)",
   "language": "python",
   "name": "python3"
  },
  "language_info": {
   "codemirror_mode": {
    "name": "ipython",
    "version": 3
   },
   "file_extension": ".py",
   "mimetype": "text/x-python",
   "name": "python",
   "nbconvert_exporter": "python",
   "pygments_lexer": "ipython3",
   "version": "3.10.8"
  }
 },
 "nbformat": 4,
 "nbformat_minor": 5
}
