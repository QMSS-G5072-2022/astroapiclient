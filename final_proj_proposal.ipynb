{
 "cells": [
  {
   "cell_type": "markdown",
   "id": "8f57dd9c",
   "metadata": {},
   "source": [
    "# Final Project Proposal "
   ]
  },
  {
   "cell_type": "markdown",
   "id": "5017cdf9",
   "metadata": {},
   "source": [
    "Name of Project: **Daily Astro API Client**"
   ]
  },
  {
   "cell_type": "markdown",
   "id": "3a8977fd",
   "metadata": {},
   "source": [
    "Type of project: API Client (A)"
   ]
  },
  {
   "cell_type": "markdown",
   "id": "59e5229f",
   "metadata": {},
   "source": [
    "This API Client is centered around an astrology based api from rapidapi that gives daily horoscopes for each sun sign. The API wrapper would automate giving personalized advice to each sun sign by focusing on the sun sign and day inputed. This will allow users to get their horoscope of today, yesterday, and tomorrow. Furthermore, the API wrapper would allow for a second function: key word themes for the 3-day period. (Could this potentially be built into an app?)"
   ]
  },
  {
   "cell_type": "markdown",
   "id": "57a254da",
   "metadata": {},
   "source": [
    "Technical steps/Challenges:\n",
    "1. Query API to obtain data from Aztro rapid api with specific parameters. This must be done multiple times in order to build a dataset. Thus, the API wrapper should automate this with functional programming. \n",
    "2. Build a dataset of the information of each sun sign within that 3-day period. The dataset would contain columns: sun sign, date, date range, description, compatibility, mood, color, lucky_number, and lucky_time. \n",
    "3. Function 1- Automate the process of obtaining daily horoscope of today, yesterday, and tomorrow based on the sun sign inputed. This would be done by writing functions that automate the request to the API process. \n",
    "4. Function 2- Generate key trends/words based on the column variables. This would require regex and somehow filtering out for common words (any tips?) for the description column. I must look at trends regarding the mood, lucky_number, lucky_time, and color column as well.\n",
    "    - Challenge: How do I filter out for common words?\n",
    "5. Function 3- Generate short-term compatibility. \n",
    "6. Provide the final summary results.\n",
    "7. Wrap everything in a python package. "
   ]
  },
  {
   "cell_type": "markdown",
   "id": "ba7a02bd",
   "metadata": {},
   "source": [
    "Links:\n",
    "    [https://rapidapi.com/sameer.kumar/api/aztro](https://rapidapi.com/sameer.kumar/api/aztro)"
   ]
  },
  {
   "cell_type": "markdown",
   "id": "88e225ad",
   "metadata": {},
   "source": [
    "Significant Hurdles:\n",
    "    Just considered about general feasibility and how this can be considered a python package. I feel like I understand the concepts separately, but molding them into one is getting confusing. \n",
    "    I am also concerned about finding the key terms and filtering out 'common' words. Not solving this would not render my project incomplete, just not the smoothest. I know there is a solution, just not sure what it is. "
   ]
  },
  {
   "cell_type": "code",
   "execution_count": 1,
   "id": "c735d974",
   "metadata": {},
   "outputs": [],
   "source": [
    "## EXPLORATORY CODE"
   ]
  },
  {
   "cell_type": "code",
   "execution_count": 2,
   "id": "53d1030e",
   "metadata": {},
   "outputs": [
    {
     "name": "stdout",
     "output_type": "stream",
     "text": [
      "{\"date_range\": \"Dec 22 - Jan 19\", \"current_date\": \"December 3, 2022\", \"description\": \"You've had a hankering to go somewhere for a while, and it's time to give in. The universe has turned all the lights green, so you'll make good time. Hop in the car and boldly go where you want to be.\", \"compatibility\": \"Aries\", \"mood\": \"Accomplished\", \"color\": \"Brown\", \"lucky_number\": \"14\", \"lucky_time\": \"7pm\"}\n",
      "\n"
     ]
    }
   ],
   "source": [
    "import requests\n",
    "\n",
    "url = \"https://sameer-kumar-aztro-v1.p.rapidapi.com/\"\n",
    "\n",
    "querystring = {\"sign\":\"capricorn\",\"day\":\"today\"}\n",
    "\n",
    "headers = {\n",
    "\t\"X-RapidAPI-Key\": \"4b129e1208msh33e49a5cb1bd56bp1deaf8jsn9d67d65fa24e\",\n",
    "\t\"X-RapidAPI-Host\": \"sameer-kumar-aztro-v1.p.rapidapi.com\"\n",
    "}\n",
    "\n",
    "response = requests.request(\"POST\", url, headers=headers, params=querystring)\n",
    "\n",
    "print(response.text)"
   ]
  },
  {
   "cell_type": "code",
   "execution_count": null,
   "id": "8c04b26c",
   "metadata": {},
   "outputs": [],
   "source": []
  }
 ],
 "metadata": {
  "kernelspec": {
   "display_name": "Python 3 (ipykernel)",
   "language": "python",
   "name": "python3"
  },
  "language_info": {
   "codemirror_mode": {
    "name": "ipython",
    "version": 3
   },
   "file_extension": ".py",
   "mimetype": "text/x-python",
   "name": "python",
   "nbconvert_exporter": "python",
   "pygments_lexer": "ipython3",
   "version": "3.10.8"
  }
 },
 "nbformat": 4,
 "nbformat_minor": 5
}
