{
 "cells": [
  {
   "cell_type": "code",
   "execution_count": 1,
   "id": "e3c2695d",
   "metadata": {},
   "outputs": [],
   "source": [
    "# This module contains functions that generate long(er) term compatibility"
   ]
  },
  {
   "cell_type": "code",
   "execution_count": 2,
   "id": "c8275ed8",
   "metadata": {},
   "outputs": [],
   "source": [
    "## importing necessary libraries\n",
    "import pandas as pd\n",
    "import numpy as np"
   ]
  },
  {
   "cell_type": "code",
   "execution_count": 3,
   "id": "42cc77d8",
   "metadata": {},
   "outputs": [],
   "source": [
    "# importing build_dataset module\n",
    "import build_dataset as bd"
   ]
  },
  {
   "cell_type": "code",
   "execution_count": 13,
   "id": "68ec00cc",
   "metadata": {},
   "outputs": [
    {
     "data": {
      "text/html": [
       "<div>\n",
       "<style scoped>\n",
       "    .dataframe tbody tr th:only-of-type {\n",
       "        vertical-align: middle;\n",
       "    }\n",
       "\n",
       "    .dataframe tbody tr th {\n",
       "        vertical-align: top;\n",
       "    }\n",
       "\n",
       "    .dataframe thead th {\n",
       "        text-align: right;\n",
       "    }\n",
       "</style>\n",
       "<table border=\"1\" class=\"dataframe\">\n",
       "  <thead>\n",
       "    <tr style=\"text-align: right;\">\n",
       "      <th></th>\n",
       "      <th>Sun Sign</th>\n",
       "      <th>Date</th>\n",
       "      <th>Description</th>\n",
       "      <th>Compatibility</th>\n",
       "      <th>Mood</th>\n",
       "      <th>Color</th>\n",
       "      <th>Lucky Number</th>\n",
       "      <th>Lucky Time</th>\n",
       "    </tr>\n",
       "  </thead>\n",
       "  <tbody>\n",
       "    <tr>\n",
       "      <th>0</th>\n",
       "      <td>aries</td>\n",
       "      <td>December 12, 2022</td>\n",
       "      <td>Secrets aren't really your strong suit, but ev...</td>\n",
       "      <td>libra</td>\n",
       "      <td>Honest</td>\n",
       "      <td>Sky</td>\n",
       "      <td>62</td>\n",
       "      <td>10pm</td>\n",
       "    </tr>\n",
       "    <tr>\n",
       "      <th>1</th>\n",
       "      <td>taurus</td>\n",
       "      <td>December 12, 2022</td>\n",
       "      <td>You'll wake up thinking about relationships. I...</td>\n",
       "      <td>pisces</td>\n",
       "      <td>Joyful</td>\n",
       "      <td>Yellow</td>\n",
       "      <td>45</td>\n",
       "      <td>2am</td>\n",
       "    </tr>\n",
       "    <tr>\n",
       "      <th>2</th>\n",
       "      <td>gemini</td>\n",
       "      <td>December 12, 2022</td>\n",
       "      <td>No one has ever accused you of mincing words. ...</td>\n",
       "      <td>sagittarius</td>\n",
       "      <td>Truthful</td>\n",
       "      <td>Orchid</td>\n",
       "      <td>49</td>\n",
       "      <td>7pm</td>\n",
       "    </tr>\n",
       "    <tr>\n",
       "      <th>3</th>\n",
       "      <td>cancer</td>\n",
       "      <td>December 12, 2022</td>\n",
       "      <td>A friend you've been thinking about in anythin...</td>\n",
       "      <td>gemini</td>\n",
       "      <td>Sincere</td>\n",
       "      <td>Yellow</td>\n",
       "      <td>19</td>\n",
       "      <td>7am</td>\n",
       "    </tr>\n",
       "    <tr>\n",
       "      <th>4</th>\n",
       "      <td>leo</td>\n",
       "      <td>December 12, 2022</td>\n",
       "      <td>A coworker you've never had occasion to distru...</td>\n",
       "      <td>pisces</td>\n",
       "      <td>Cautious</td>\n",
       "      <td>Orange</td>\n",
       "      <td>45</td>\n",
       "      <td>3pm</td>\n",
       "    </tr>\n",
       "  </tbody>\n",
       "</table>\n",
       "</div>"
      ],
      "text/plain": [
       "  Sun Sign               Date  \\\n",
       "0    aries  December 12, 2022   \n",
       "1   taurus  December 12, 2022   \n",
       "2   gemini  December 12, 2022   \n",
       "3   cancer  December 12, 2022   \n",
       "4      leo  December 12, 2022   \n",
       "\n",
       "                                         Description Compatibility      Mood  \\\n",
       "0  Secrets aren't really your strong suit, but ev...         libra    Honest   \n",
       "1  You'll wake up thinking about relationships. I...        pisces    Joyful   \n",
       "2  No one has ever accused you of mincing words. ...   sagittarius  Truthful   \n",
       "3  A friend you've been thinking about in anythin...        gemini   Sincere   \n",
       "4  A coworker you've never had occasion to distru...        pisces  Cautious   \n",
       "\n",
       "    Color Lucky Number Lucky Time  \n",
       "0     Sky           62       10pm  \n",
       "1  Yellow           45        2am  \n",
       "2  Orchid           49        7pm  \n",
       "3  Yellow           19        7am  \n",
       "4  Orange           45        3pm  "
      ]
     },
     "execution_count": 13,
     "metadata": {},
     "output_type": "execute_result"
    }
   ],
   "source": [
    "# get df of astrological data\n",
    "df = bd.df\n",
    "df['Compatibility'] = df['Compatibility'].str.lower()\n",
    "df.head()"
   ]
  },
  {
   "cell_type": "code",
   "execution_count": 19,
   "id": "cc5f9802",
   "metadata": {},
   "outputs": [],
   "source": [
    "def best_compatibility(sign):\n",
    "    lst = list(df[df['Sun Sign'] == sign]['Compatibility']) + list(df[df['Compatibility'] == sign]['Sun Sign'])\n",
    "    return max(lst, key=lst.count)"
   ]
  },
  {
   "cell_type": "code",
   "execution_count": 21,
   "id": "50264bbc",
   "metadata": {},
   "outputs": [
    {
     "data": {
      "text/plain": [
       "'scorpio'"
      ]
     },
     "execution_count": 21,
     "metadata": {},
     "output_type": "execute_result"
    }
   ],
   "source": [
    "best_compatibility('capricorn')"
   ]
  },
  {
   "cell_type": "code",
   "execution_count": null,
   "id": "a47d93f3",
   "metadata": {},
   "outputs": [],
   "source": []
  }
 ],
 "metadata": {
  "kernelspec": {
   "display_name": "Python 3 (ipykernel)",
   "language": "python",
   "name": "python3"
  },
  "language_info": {
   "codemirror_mode": {
    "name": "ipython",
    "version": 3
   },
   "file_extension": ".py",
   "mimetype": "text/x-python",
   "name": "python",
   "nbconvert_exporter": "python",
   "pygments_lexer": "ipython3",
   "version": "3.10.8"
  }
 },
 "nbformat": 4,
 "nbformat_minor": 5
}
