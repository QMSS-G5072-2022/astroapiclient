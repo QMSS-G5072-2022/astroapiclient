{
 "cells": [
  {
   "cell_type": "code",
   "execution_count": 1,
   "id": "a29778ac",
   "metadata": {},
   "outputs": [],
   "source": [
    "# This file contains a class of functions that query the Aztro rapid API \n",
    "# each function generates data for each day avaliable (today, tomorrow, yesterday) "
   ]
  },
  {
   "cell_type": "code",
   "execution_count": 2,
   "id": "ba13c646",
   "metadata": {},
   "outputs": [],
   "source": [
    "## importing necessary libraries\n",
    "import requests"
   ]
  },
  {
   "cell_type": "code",
   "execution_count": 1,
   "id": "afae22f9",
   "metadata": {},
   "outputs": [],
   "source": [
    "class getAztrodata:\n",
    "    # base url for API\n",
    "    url = \"https://sameer-kumar-aztro-v1.p.rapidapi.com/\"\n",
    "\n",
    "    # API Key + Host\n",
    "    headers = {\n",
    "        \"X-RapidAPI-Key\": \"4b129e1208msh33e49a5cb1bd56bp1deaf8jsn9d67d65fa24e\",\n",
    "        \"X-RapidAPI-Host\": \"sameer-kumar-aztro-v1.p.rapidapi.com\"\n",
    "    }\n",
    "\n",
    "    lst_sun_signs = ['aries', 'taurus', 'gemini', 'cancer', 'leo', 'virgo', 'libra', 'scorpio', 'sagittarius', 'capricorn', 'aquarius']\n",
    "    \n",
    "    def __init__(self):\n",
    "        pass\n",
    "    \n",
    "    # generates today's horoscope data for each zodiac sign \n",
    "    def today_data():\n",
    "        lst_response = []\n",
    "        for sign in lst_sun_signs:\n",
    "            querystring = {'sign': sign, 'day':'today'}\n",
    "            response = requests.request(\"POST\", url, headers=headers, params=querystring)\n",
    "            lst_response.append(response)\n",
    "        return lst_response\n",
    "    \n",
    "    # generates yesterday's horoscope data for each zodiac sign \n",
    "    def yesterday_data():\n",
    "        lst_response = []\n",
    "        for sign in lst_sun_signs:\n",
    "            querystring = {'sign': sign, 'day':'yesterday'}\n",
    "            response = requests.request(\"POST\", url, headers=headers, params=querystring)\n",
    "            lst_response.append(response)\n",
    "        return lst_response\n",
    "    \n",
    "    # generates tomorrow's horoscope data for each zodiac sign \n",
    "    def tomorrow_data():\n",
    "        lst_response = []\n",
    "        for sign in lst_sun_signs:\n",
    "            querystring = {'sign': sign, 'day':'tomorrow'}\n",
    "            response = requests.request(\"POST\", url, headers=headers, params=querystring)\n",
    "            lst_response.append(response)\n",
    "        return lst_response"
   ]
  },
  {
   "cell_type": "code",
   "execution_count": 3,
   "id": "690b32b2",
   "metadata": {},
   "outputs": [],
   "source": [
    "# base url for API\n",
    "url = \"https://sameer-kumar-aztro-v1.p.rapidapi.com/\"\n",
    "\n",
    "# API Key + Host\n",
    "headers = {\n",
    "\t\"X-RapidAPI-Key\": \"4b129e1208msh33e49a5cb1bd56bp1deaf8jsn9d67d65fa24e\",\n",
    "\t\"X-RapidAPI-Host\": \"sameer-kumar-aztro-v1.p.rapidapi.com\"\n",
    "}\n",
    "\n",
    "lst_sun_signs = ['aries', 'taurus', 'gemini', 'cancer', 'leo', 'virgo', 'libra', 'scorpio', 'sagittarius', 'capricorn', 'aquarius']"
   ]
  },
  {
   "cell_type": "code",
   "execution_count": 4,
   "id": "ad3dac7d",
   "metadata": {},
   "outputs": [],
   "source": [
    "# generates today's horoscope data for each zodiac sign \n",
    "def today_data():\n",
    "    lst_response = []\n",
    "    for sign in lst_sun_signs:\n",
    "        querystring = {'sign': sign, 'day':'today'}\n",
    "        response = requests.request(\"POST\", url, headers=headers, params=querystring)\n",
    "        lst_response.append(response)\n",
    "    return lst_response"
   ]
  },
  {
   "cell_type": "code",
   "execution_count": 5,
   "id": "4f138d54",
   "metadata": {},
   "outputs": [],
   "source": [
    "# generates yesterday's horoscope data for each zodiac sign \n",
    "def yesterday_data():\n",
    "    lst_response = []\n",
    "    for sign in lst_sun_signs:\n",
    "        querystring = {'sign': sign, 'day':'yesterday'}\n",
    "        response = requests.request(\"POST\", url, headers=headers, params=querystring)\n",
    "        lst_response.append(response)\n",
    "    return lst_response"
   ]
  },
  {
   "cell_type": "code",
   "execution_count": 6,
   "id": "e39938d6",
   "metadata": {},
   "outputs": [],
   "source": [
    "# generates tomorrow's horoscope data for each zodiac sign \n",
    "def tomorrow_data():\n",
    "    lst_response = []\n",
    "    for sign in lst_sun_signs:\n",
    "        querystring = {'sign': sign, 'day':'tomorrow'}\n",
    "        response = requests.request(\"POST\", url, headers=headers, params=querystring)\n",
    "        lst_response.append(response)\n",
    "    return lst_response"
   ]
  },
  {
   "cell_type": "code",
   "execution_count": null,
   "id": "caf12493",
   "metadata": {},
   "outputs": [],
   "source": []
  }
 ],
 "metadata": {
  "kernelspec": {
   "display_name": "Python 3 (ipykernel)",
   "language": "python",
   "name": "python3"
  },
  "language_info": {
   "codemirror_mode": {
    "name": "ipython",
    "version": 3
   },
   "file_extension": ".py",
   "mimetype": "text/x-python",
   "name": "python",
   "nbconvert_exporter": "python",
   "pygments_lexer": "ipython3",
   "version": "3.10.8"
  }
 },
 "nbformat": 4,
 "nbformat_minor": 5
}
